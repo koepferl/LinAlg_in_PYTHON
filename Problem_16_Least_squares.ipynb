{
 "cells": [
  {
   "cell_type": "code",
   "execution_count": 1,
   "metadata": {},
   "outputs": [],
   "source": [
    "%matplotlib inline\n",
    "import numpy as np\n",
    "from pylab import *"
   ]
  },
  {
   "cell_type": "markdown",
   "metadata": {},
   "source": [
    "## Aufgabe 4.3-7"
   ]
  },
  {
   "cell_type": "code",
   "execution_count": 2,
   "metadata": {},
   "outputs": [
    {
     "name": "stdout",
     "output_type": "stream",
     "text": [
      "(4, 2) Form A\n",
      "A [[1 0]\n",
      " [1 1]\n",
      " [1 3]\n",
      " [1 4]]\n"
     ]
    }
   ],
   "source": [
    "# Matrix A fuer Aufgabe 4.3-7\n",
    "x_mess = np.array([0, 1, 3, 4])\n",
    "A = np.array([[1, 0], [1, 1], [1, 3], [1, 4]])\n",
    "print(A.shape, 'Form A')\n",
    "print('A', A)\n",
    "\n",
    "# Vektor b\n",
    "b = np.array([0, 8, 8, 20])"
   ]
  },
  {
   "cell_type": "code",
   "execution_count": 3,
   "metadata": {},
   "outputs": [
    {
     "name": "stdout",
     "output_type": "stream",
     "text": [
      "(2, 4) Form A^T\n",
      "[[1 1 1 1]\n",
      " [0 1 3 4]]\n"
     ]
    }
   ],
   "source": [
    "# Matrix A trasponieren\n",
    "AT = A.transpose()\n",
    "print(AT.shape, 'Form A^T')\n",
    "print(AT)"
   ]
  },
  {
   "cell_type": "code",
   "execution_count": 4,
   "metadata": {},
   "outputs": [
    {
     "name": "stdout",
     "output_type": "stream",
     "text": [
      "Form A^TA (2, 2)\n",
      "[[ 4  8]\n",
      " [ 8 26]]\n"
     ]
    }
   ],
   "source": [
    "# Matrixprodukt A^TA\n",
    "ATA = AT.dot(A)\n",
    "print('Form A^TA', ATA.shape)\n",
    "print(ATA)"
   ]
  },
  {
   "cell_type": "code",
   "execution_count": 5,
   "metadata": {},
   "outputs": [
    {
     "name": "stdout",
     "output_type": "stream",
     "text": [
      "A^Tb [ 36 112]\n"
     ]
    }
   ],
   "source": [
    "# Rechte Seite A^Tb\n",
    "ATb = AT.dot(b)\n",
    "print('A^Tb', ATb)"
   ]
  },
  {
   "cell_type": "code",
   "execution_count": 6,
   "metadata": {},
   "outputs": [
    {
     "name": "stdout",
     "output_type": "stream",
     "text": [
      "x_fit [1. 4.]\n"
     ]
    }
   ],
   "source": [
    "# Loesung fuer A^TAx_fit = A^Tb\n",
    "x_fit = np.linalg.solve(ATA, ATb)\n",
    "print('x_fit', x_fit)"
   ]
  },
  {
   "cell_type": "code",
   "execution_count": 7,
   "metadata": {},
   "outputs": [
    {
     "name": "stdout",
     "output_type": "stream",
     "text": [
      "p [ 1.  5. 13. 17.]\n",
      "e [-1.  3. -5.  3.]\n"
     ]
    }
   ],
   "source": [
    "# Projektionsvektor\n",
    "p = A.dot(x_fit)\n",
    "print('p', p)\n",
    "\n",
    "# Fehlervektor (Error)\n",
    "e = b - p\n",
    "print('e', e)"
   ]
  },
  {
   "cell_type": "code",
   "execution_count": 8,
   "metadata": {},
   "outputs": [
    {
     "name": "stdout",
     "output_type": "stream",
     "text": [
      "||e||^2 =  44.0\n"
     ]
    }
   ],
   "source": [
    "# Fehlerquadrate\n",
    "Fehlerquadrate = np.linalg.norm(e)**2\n",
    "print('||e||^2 = ', Fehlerquadrate)"
   ]
  },
  {
   "cell_type": "markdown",
   "metadata": {},
   "source": [
    "## Automatisierung "
   ]
  },
  {
   "cell_type": "code",
   "execution_count": 9,
   "metadata": {},
   "outputs": [],
   "source": [
    "def fitting(A, b):\n",
    "    print('--------', 'Matrix A', '--------')\n",
    "    print(A.shape, 'Form')\n",
    "    print(A)\n",
    "    \n",
    "    # Matrix A trasponieren\n",
    "    AT = A.transpose()\n",
    "    print('--------', 'Matrix A^T', '--------')\n",
    "    print(AT.shape, 'Form')\n",
    "    print(AT)\n",
    "    \n",
    "    # Matrixprodukt A^TA\n",
    "    ATA = AT.dot(A)\n",
    "    print('--------', 'Matrix A^TA', '--------')\n",
    "    print(ATA.shape, 'Form')\n",
    "    print(ATA)\n",
    "    \n",
    "    # Rechte Seite A^Tb\n",
    "    ATb = AT.dot(b)\n",
    "    print('--------', 'Matrix A^Tb', '--------')\n",
    "    print(ATb)\n",
    "    \n",
    "    print('-'*29)\n",
    "    # Loesung fuer A^TAx_fit = A^Tb\n",
    "    x_fit = np.linalg.solve(ATA, ATb)\n",
    "    print('x_fit =', x_fit)\n",
    "    \n",
    "    # Projektionsvektor\n",
    "    p = A.dot(x_fit)\n",
    "    print('p = Ax_fit =', p)\n",
    "    \n",
    "    # Fehlervektor (Error)\n",
    "    e = b - p\n",
    "    print('e=b-p =', e)\n",
    "    \n",
    "    # Fehlerquadrate\n",
    "    Fehlerquadrate = np.linalg.norm(e)**2\n",
    "    print('||e||^2 =', Fehlerquadrate)\n",
    "    \n",
    "    def fit_function(coeff, x_mess):\n",
    "        x_fine = np.linspace(x_mess[0], x_mess[-1], 50)\n",
    "        #print(x_fine)\n",
    "\n",
    "        # x_fit = np.array([c0, c1, ...])\n",
    "        # y_fit = c0x_fine^0 + c1x_fine^1 + c2x_fine^2 ...\n",
    "        \n",
    "        y_fit = 0\n",
    "        for i in range(len(coeff)):\n",
    "            y_fit += coeff[i]*x_fine**i\n",
    "        return x_fine, y_fit\n",
    "    \n",
    "    # Ausgleichsfunktion\n",
    "    x_ausgleich, y_ausgleich = fit_function(coeff=x_fit, x_mess=x_mess)\n",
    "    \n",
    "    figure()\n",
    "    plot(x_mess, b, 'xk', label='Messwerte')\n",
    "    plot(x_ausgleich, y_ausgleich, 'r-')\n",
    "    show()\n",
    "    "
   ]
  },
  {
   "cell_type": "code",
   "execution_count": 10,
   "metadata": {},
   "outputs": [
    {
     "name": "stdout",
     "output_type": "stream",
     "text": [
      "-------- Matrix A --------\n",
      "(4, 3) Form\n",
      "[[ 1  0  0]\n",
      " [ 1  1  1]\n",
      " [ 1  3  9]\n",
      " [ 1  4 16]]\n",
      "-------- Matrix A^T --------\n",
      "(3, 4) Form\n",
      "[[ 1  1  1  1]\n",
      " [ 0  1  3  4]\n",
      " [ 0  1  9 16]]\n",
      "-------- Matrix A^TA --------\n",
      "(3, 3) Form\n",
      "[[  4   8  26]\n",
      " [  8  26  92]\n",
      " [ 26  92 338]]\n",
      "-------- Matrix A^Tb --------\n",
      "[ 36 112 400]\n",
      "-----------------------------\n",
      "x_fit = [2.         1.33333333 0.66666667]\n",
      "p = Ax_fit = [ 2.  4. 12. 18.]\n",
      "e=b-p = [-2.  4. -4.  2.]\n",
      "||e||^2 = 40.00000000000001\n"
     ]
    },
    {
     "data": {
      "image/png": "[encoded data removed]",
      "text/plain": [
       "<Figure size 432x288 with 1 Axes>"
      ]
     },
     "metadata": {
      "needs_background": "light"
     },
     "output_type": "display_data"
    }
   ],
   "source": [
    "################\n",
    "# Aufgabe 4.3-9\n",
    "################\n",
    "A = np.array([[1, 0, 0], [1, 1, 1], [1, 3, 9], [1, 4, 16]])\n",
    "b = np.array([0, 8, 8, 20])\n",
    "\n",
    "# fitten\n",
    "fitting(A=A, b=b)"
   ]
  },
  {
   "cell_type": "code",
   "execution_count": 11,
   "metadata": {},
   "outputs": [
    {
     "name": "stdout",
     "output_type": "stream",
     "text": [
      "-------- Matrix A --------\n",
      "(4, 4) Form\n",
      "[[ 1  0  0  0]\n",
      " [ 1  1  1  1]\n",
      " [ 1  3  9 27]\n",
      " [ 1  4 16 64]]\n",
      "-------- Matrix A^T --------\n",
      "(4, 4) Form\n",
      "[[ 1  1  1  1]\n",
      " [ 0  1  3  4]\n",
      " [ 0  1  9 16]\n",
      " [ 0  1 27 64]]\n",
      "-------- Matrix A^TA --------\n",
      "(4, 4) Form\n",
      "[[   4    8   26   92]\n",
      " [   8   26   92  338]\n",
      " [  26   92  338 1268]\n",
      " [  92  338 1268 4826]]\n",
      "-------- Matrix A^Tb --------\n",
      "[  36  112  400 1504]\n",
      "-----------------------------\n",
      "x_fit = [ 1.48287180e-13  1.56666667e+01 -9.33333333e+00  1.66666667e+00]\n",
      "p = Ax_fit = [1.4828718e-13 8.0000000e+00 8.0000000e+00 2.0000000e+01]\n",
      "e=b-p = [-1.48287180e-13  2.30926389e-13 -1.27897692e-13  5.68434189e-14]\n",
      "||e||^2 = 9.490507883605198e-26\n"
     ]
    },
    {
     "data": {
      "image/png": "[encoded data removed]",
      "text/plain": [
       "<Figure size 432x288 with 1 Axes>"
      ]
     },
     "metadata": {
      "needs_background": "light"
     },
     "output_type": "display_data"
    }
   ],
   "source": [
    "################\n",
    "# Aufgabe 4.3-10\n",
    "################\n",
    "\n",
    "A = np.array([[1, 0, 0, 0], [1, 1, 1, 1], [1, 3, 9, 27], [1, 4, 16, 64]])\n",
    "b = np.array([0, 8, 8, 20])\n",
    "\n",
    "# fitten\n",
    "fitting(A=A, b=b)"
   ]
  },
  {
   "cell_type": "code",
   "execution_count": 12,
   "metadata": {},
   "outputs": [
    {
     "name": "stdout",
     "output_type": "stream",
     "text": [
      "-------- Matrix A --------\n",
      "(4, 2) Form\n",
      "[[1 0]\n",
      " [1 1]\n",
      " [1 3]\n",
      " [1 4]]\n",
      "-------- Matrix A^T --------\n",
      "(2, 4) Form\n",
      "[[1 1 1 1]\n",
      " [0 1 3 4]]\n",
      "-------- Matrix A^TA --------\n",
      "(2, 2) Form\n",
      "[[ 4  8]\n",
      " [ 8 26]]\n",
      "-------- Matrix A^Tb --------\n",
      "[ 36 112]\n",
      "-----------------------------\n",
      "x_fit = [1. 4.]\n",
      "p = Ax_fit = [ 1.  5. 13. 17.]\n",
      "e=b-p = [-1.  3. -5.  3.]\n",
      "||e||^2 = 44.0\n"
     ]
    },
    {
     "data": {
      "image/png": "[encoded data removed]",
      "text/plain": [
       "<Figure size 432x288 with 1 Axes>"
      ]
     },
     "metadata": {
      "needs_background": "light"
     },
     "output_type": "display_data"
    }
   ],
   "source": [
    "# Matrix A fuer Aufgabe 4.3-1\n",
    "A = np.array([[1, 0], [1, 1], [1, 3], [1, 4]])\n",
    "b = np.array([0, 8, 8, 20])\n",
    "fitting(A=A, b=b)"
   ]
  },
  {
   "cell_type": "code",
   "execution_count": 13,
   "metadata": {},
   "outputs": [
    {
     "name": "stdout",
     "output_type": "stream",
     "text": [
      "-------- Matrix A --------\n",
      "(4, 1) Form\n",
      "[[1]\n",
      " [1]\n",
      " [1]\n",
      " [1]]\n",
      "-------- Matrix A^T --------\n",
      "(1, 4) Form\n",
      "[[1 1 1 1]]\n",
      "-------- Matrix A^TA --------\n",
      "(1, 1) Form\n",
      "[[4]]\n",
      "-------- Matrix A^Tb --------\n",
      "[36]\n",
      "-----------------------------\n",
      "x_fit = [9.]\n",
      "p = Ax_fit = [9. 9. 9. 9.]\n",
      "e=b-p = [-9. -1. -1. 11.]\n",
      "||e||^2 = 204.00000000000003\n"
     ]
    },
    {
     "data": {
      "image/png": "[encoded data removed]",
      "text/plain": [
       "<Figure size 432x288 with 1 Axes>"
      ]
     },
     "metadata": {
      "needs_background": "light"
     },
     "output_type": "display_data"
    }
   ],
   "source": [
    "# Matrix A fuer Aufgabe 4.3-5\n",
    "A = np.array([[1], [1], [1], [1]])\n",
    "b = np.array([0, 8, 8, 20])\n",
    "\n",
    "# fitten\n",
    "fitting(A=A, b=b)"
   ]
  },
  {
   "cell_type": "code",
   "execution_count": 14,
   "metadata": {},
   "outputs": [
    {
     "name": "stdout",
     "output_type": "stream",
     "text": [
      "-------- Matrix A --------\n",
      "(4, 1) Form\n",
      "[[0]\n",
      " [1]\n",
      " [3]\n",
      " [4]]\n",
      "-------- Matrix A^T --------\n",
      "(1, 4) Form\n",
      "[[0 1 3 4]]\n",
      "-------- Matrix A^TA --------\n",
      "(1, 1) Form\n",
      "[[26]]\n",
      "-------- Matrix A^Tb --------\n",
      "[112]\n",
      "-----------------------------\n",
      "x_fit = [4.30769231]\n",
      "p = Ax_fit = [ 0.          4.30769231 12.92307692 17.23076923]\n",
      "e=b-p = [ 0.          3.69230769 -4.92307692  2.76923077]\n",
      "||e||^2 = 45.53846153846156\n"
     ]
    },
    {
     "data": {
      "image/png": "[encoded data removed]",
      "text/plain": [
       "<Figure size 432x288 with 1 Axes>"
      ]
     },
     "metadata": {
      "needs_background": "light"
     },
     "output_type": "display_data"
    }
   ],
   "source": [
    "# Matrix A fuer Aufgabe 4.3-7\n",
    "A = np.array([[0], [1], [3], [4]])\n",
    "b = np.array([0, 8, 8, 20])\n",
    "\n",
    "# fitten\n",
    "fitting(A=A, b=b)"
   ]
  },
  {
   "cell_type": "code",
   "execution_count": null,
   "metadata": {},
   "outputs": [],
   "source": [
    "# Ueberlegen Sie warum nun der Plot falsch ist?"
   ]
  },
  {
   "cell_type": "code",
   "execution_count": null,
   "metadata": {},
   "outputs": [],
   "source": []
  }
 ],
 "metadata": {
  "kernelspec": {
   "display_name": "Python 3",
   "language": "python",
   "name": "python3"
  },
  "language_info": {
   "codemirror_mode": {
    "name": "ipython",
    "version": 3
   },
   "file_extension": ".py",
   "mimetype": "text/x-python",
   "name": "python",
   "nbconvert_exporter": "python",
   "pygments_lexer": "ipython3",
   "version": "3.8.3"
  }
 },
 "nbformat": 4,
 "nbformat_minor": 4
}
